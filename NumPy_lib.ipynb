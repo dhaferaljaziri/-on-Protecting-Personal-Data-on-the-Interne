{
  "nbformat": 4,
  "nbformat_minor": 0,
  "metadata": {
    "colab": {
      "provenance": [],
      "gpuType": "T4",
      "authorship_tag": "ABX9TyPMX/TfQA6j317U2gI073aA",
      "include_colab_link": true
    },
    "kernelspec": {
      "name": "python3",
      "display_name": "Python 3"
    },
    "language_info": {
      "name": "python"
    },
    "accelerator": "GPU"
  },
  "cells": [
    {
      "cell_type": "markdown",
      "metadata": {
        "id": "view-in-github",
        "colab_type": "text"
      },
      "source": [
        "<a href=\"https://colab.research.google.com/github/dhaferaljaziri/-on-Protecting-Personal-Data-on-the-Interne/blob/main/NumPy_lib.ipynb\" target=\"_parent\"><img src=\"https://colab.research.google.com/assets/colab-badge.svg\" alt=\"Open In Colab\"/></a>"
      ]
    },
    {
      "cell_type": "code",
      "source": [
        "!pip install numpy --upgrade\n"
      ],
      "metadata": {
        "colab": {
          "base_uri": "https://localhost:8080/"
        },
        "id": "4ZNjVAnJgwyD",
        "outputId": "2bdb2a2e-813b-4e3f-f88f-de5e3f726068"
      },
      "execution_count": null,
      "outputs": [
        {
          "output_type": "stream",
          "name": "stdout",
          "text": [
            "Requirement already satisfied: numpy in /usr/local/lib/python3.12/dist-packages (2.3.2)\n"
          ]
        }
      ]
    },
    {
      "cell_type": "code",
      "source": [
        "import numpy as np\n",
        "print(np.__version__)\n"
      ],
      "metadata": {
        "colab": {
          "base_uri": "https://localhost:8080/"
        },
        "id": "2tI5Fsa1iHun",
        "outputId": "68ff335e-0a5b-4c83-9b8c-e902a8e8c6db"
      },
      "execution_count": null,
      "outputs": [
        {
          "output_type": "stream",
          "name": "stdout",
          "text": [
            "2.3.2\n"
          ]
        }
      ]
    },
    {
      "cell_type": "markdown",
      "source": [
        "1. إنشاء مصفوفة"
      ],
      "metadata": {
        "id": "YNd4bUoyiPb_"
      }
    },
    {
      "cell_type": "code",
      "source": [
        "import numpy as np\n",
        "\n",
        "# إنشاء مصفوفة 1D\n",
        "arr1 = np.array([1, 2, 3, 4, 5])\n",
        "print(\"1D Array:\", arr1)\n",
        "\n",
        "# إنشاء مصفوفة 2D\n",
        "arr2 = np.array([[1, 2, 3], [4, 5, 6]])\n",
        "print(\"2D Array:\\n\", arr2)\n"
      ],
      "metadata": {
        "colab": {
          "base_uri": "https://localhost:8080/"
        },
        "id": "SiuumWT5iQ0V",
        "outputId": "099083eb-f44d-4adc-d841-3062b64aaf57"
      },
      "execution_count": null,
      "outputs": [
        {
          "output_type": "stream",
          "name": "stdout",
          "text": [
            "1D Array: [1 2 3 4 5]\n",
            "2D Array:\n",
            " [[1 2 3]\n",
            " [4 5 6]]\n"
          ]
        }
      ]
    },
    {
      "cell_type": "markdown",
      "source": [
        "2. أعداد متسلسلة (arange / linspace)"
      ],
      "metadata": {
        "id": "OZFmXjD5iWL2"
      }
    },
    {
      "cell_type": "code",
      "source": [
        "# أعداد من 0 إلى 9\n",
        "a = np.arange(10)\n",
        "print(\"arange(10):\", a)\n",
        "\n",
        "# أعداد بين 0 و 1 مقسمة إلى 5 أجزاء\n",
        "b = np.linspace(0, 1, 5)\n",
        "print(\"linspace(0,1,5):\", b)\n"
      ],
      "metadata": {
        "colab": {
          "base_uri": "https://localhost:8080/"
        },
        "id": "lg9InmvDib_2",
        "outputId": "be0eb26d-5d65-48ad-dd00-c912a509e831"
      },
      "execution_count": null,
      "outputs": [
        {
          "output_type": "stream",
          "name": "stdout",
          "text": [
            "arange(10): [0 1 2 3 4 5 6 7 8 9]\n",
            "linspace(0,1,5): [0.   0.25 0.5  0.75 1.  ]\n"
          ]
        }
      ]
    },
    {
      "cell_type": "markdown",
      "source": [
        "3. عمليات رياضية على المصفوفات"
      ],
      "metadata": {
        "id": "VJP5tFhBilEY"
      }
    },
    {
      "cell_type": "code",
      "source": [
        "x = np.array([1, 2, 3])\n",
        "y = np.array([10, 20, 30])\n",
        "\n",
        "print(\"x + y =\", x + y)\n",
        "print(\"x * y =\", x * y)\n",
        "print(\"x dot y =\", np.dot(x, y))\n"
      ],
      "metadata": {
        "colab": {
          "base_uri": "https://localhost:8080/"
        },
        "id": "-iIOjd08in84",
        "outputId": "560ecfca-22df-4654-bb33-e43c8daa2394"
      },
      "execution_count": null,
      "outputs": [
        {
          "output_type": "stream",
          "name": "stdout",
          "text": [
            "x + y = [11 22 33]\n",
            "x * y = [10 40 90]\n",
            "x dot y = 140\n"
          ]
        }
      ]
    },
    {
      "cell_type": "markdown",
      "source": [
        "4. دوال مهمة"
      ],
      "metadata": {
        "id": "3fcBOoFsitsG"
      }
    },
    {
      "cell_type": "code",
      "source": [
        "m = np.array([[1, 2], [3, 4]])\n",
        "\n",
        "print(\"Transpose:\\n\", m.T)\n",
        "print(\"Sum of all elements:\", np.sum(m))\n",
        "print(\"Mean of all elements:\", np.mean(m))\n",
        "print(\"Max element:\", np.max(m))\n"
      ],
      "metadata": {
        "colab": {
          "base_uri": "https://localhost:8080/"
        },
        "id": "EPNoICiCix8v",
        "outputId": "e2f1d636-8e0d-47c9-d4b9-8637e650c422"
      },
      "execution_count": null,
      "outputs": [
        {
          "output_type": "stream",
          "name": "stdout",
          "text": [
            "Transpose:\n",
            " [[1 3]\n",
            " [2 4]]\n",
            "Sum of all elements: 10\n",
            "Mean of all elements: 2.5\n",
            "Max element: 4\n"
          ]
        }
      ]
    },
    {
      "cell_type": "markdown",
      "source": [
        "5. المصفوفات العشوائية"
      ],
      "metadata": {
        "id": "3cq1k3DUi2it"
      }
    },
    {
      "cell_type": "code",
      "source": [
        "# مصفوفة 2x2 أعداد عشوائية بين 0 و 1\n",
        "rand_arr = np.random.rand(2,2)\n",
        "print(\"Random 2x2 array:\\n\", rand_arr)\n",
        "\n",
        "# مصفوفة 3x3 من أعداد صحيحة عشوائية بين 0 و 10\n",
        "rand_int = np.random.randint(0, 10, (3,3))\n",
        "print(\"Random integers:\\n\", rand_int)\n"
      ],
      "metadata": {
        "colab": {
          "base_uri": "https://localhost:8080/"
        },
        "id": "9BV2roe6i5Vn",
        "outputId": "6650670e-1e87-4131-b2d8-1c44ba780b22"
      },
      "execution_count": null,
      "outputs": [
        {
          "output_type": "stream",
          "name": "stdout",
          "text": [
            "Random 2x2 array:\n",
            " [[0.70540537 0.9113824 ]\n",
            " [0.75640833 0.64612334]]\n",
            "Random integers:\n",
            " [[4 1 8]\n",
            " [4 7 5]\n",
            " [6 4 2]]\n"
          ]
        }
      ]
    }
  ]
}